{
  "nbformat": 4,
  "nbformat_minor": 0,
  "metadata": {
    "colab": {
      "name": "flask-streaming.ipynb",
      "provenance": [],
      "collapsed_sections": []
    },
    "kernelspec": {
      "name": "python3",
      "display_name": "Python 3"
    },
    "language_info": {
      "name": "python"
    }
  },
  "cells": [
    {
      "cell_type": "code",
      "source": [
        "!git clone https://github.com/Changshama/interactive-reading-demo.git"
      ],
      "metadata": {
        "id": "_3eigRoU0Iav"
      },
      "execution_count": null,
      "outputs": []
    },
    {
      "cell_type": "code",
      "source": [
        "!pip install flask==0.12.2\n",
        "!pip install pyngrok"
      ],
      "metadata": {
        "id": "2YKBRGhQ5wvt"
      },
      "execution_count": null,
      "outputs": []
    },
    {
      "cell_type": "code",
      "source": [
        "%cd interactive-reading-demo/"
      ],
      "metadata": {
        "id": "2KW2e2qGX808"
      },
      "execution_count": null,
      "outputs": []
    },
    {
      "cell_type": "code",
      "source": [
        "from pyngrok import ngrok\n",
        "ngrok.set_auth_token(\"25AAtPRj4f8z7qn45IMWftTbhlC_oJXtqapX3UsQdcZEZ9tw\")\n",
        "# Open a ngrok tunnel to the HTTP server\n",
        "PORT = 5000\n",
        "public_url = ngrok.connect(PORT).public_url\n",
        "#visit the ngrok url to see demo\n",
        "print(\" * ngrok tunnel \\\"{}\\\" -> \\\"http://localhost:{}\\\"\".format(public_url, PORT))"
      ],
      "metadata": {
        "id": "H-EJPkUccRN_"
      },
      "execution_count": null,
      "outputs": []
    },
    {
      "cell_type": "code",
      "source": [
        "import os\n",
        "import uuid\n",
        "import wave\n",
        "from flask import Flask, Response, render_template, Blueprint, current_app, session, url_for\n",
        "# from flask_socketio import SocketIO, emit\n",
        "\n",
        "app = Flask(__name__)\n",
        "bp_nemo_1 = Blueprint('nemo_1', __name__, static_folder='static',\n",
        "               template_folder='templates')\n",
        "bp_nemo_2 = Blueprint('nemo_2', __name__, static_folder='static',\n",
        "               template_folder='templates')\n",
        "\n",
        "nemo_1_keys = ['Orange', 'Stripe', 'Black', 'White']\n",
        "nemo_2_keys = ['Forget', 'Remember', 'Memory', 'Loss', 'Issue']\n",
        "\n",
        "@bp_nemo_1.route('/')\n",
        "def index():\n",
        "    return render_template('nemo_1/index.html', ans_path = \"static/audio/prompt_answer.wav\", keys=nemo_1_keys) \n",
        "\n",
        "@bp_nemo_2.route('/')\n",
        "def index():\n",
        "    return render_template('nemo_2/index.html', ans_path = \"static/audio/prompt-dory-anw.wav\", keys=nemo_2_keys)\n",
        "\n",
        "app.register_blueprint(bp_nemo_1, url_prefix='/nemo_1')\n",
        "app.register_blueprint(bp_nemo_2, url_prefix='/nemo_2')\n",
        "\n",
        "@app.route('/')\n",
        "def index():\n",
        "  return render_template('index.html')\n",
        "app.run()\n"
      ],
      "metadata": {
        "id": "KAah7LjN0Lvh"
      },
      "execution_count": null,
      "outputs": []
    }
  ]
}