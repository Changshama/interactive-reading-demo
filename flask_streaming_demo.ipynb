{
  "cells": [
    {
      "cell_type": "code",
      "execution_count": null,
      "metadata": {
        "id": "2YKBRGhQ5wvt"
      },
      "outputs": [],
      "source": [
        "!pip install flask==0.12.2\n",
        "!pip install pyngrok==5.1.0"
      ]
    },
    {
      "cell_type": "code",
      "execution_count": null,
      "metadata": {
        "colab": {
          "base_uri": "https://localhost:8080/"
        },
        "id": "ufzibJ1IDLgT",
        "outputId": "60fbce30-222b-4e4b-dfaa-7224dfe87953"
      },
      "outputs": [
        {
          "output_type": "stream",
          "name": "stdout",
          "text": [
            "/content/interactive-reading-demo\n"
          ]
        }
      ],
      "source": [
        "%cd /content/interactive-reading-demo/"
      ]
    },
    {
      "cell_type": "code",
      "execution_count": null,
      "metadata": {
        "colab": {
          "base_uri": "https://localhost:8080/"
        },
        "id": "H-EJPkUccRN_",
        "outputId": "411da5e9-bb25-4910-c9d2-67baf9ffa0db"
      },
      "outputs": [
        {
          "output_type": "stream",
          "name": "stdout",
          "text": [
            " * ngrok tunnel \"http://023b-35-185-35-11.ngrok.io\" -> \"http://localhost:5000\"\n"
          ]
        }
      ],
      "source": [
        "from pyngrok import ngrok\n",
        "ngrok.set_auth_token(\"25AAtPRj4f8z7qn45IMWftTbhlC_oJXtqapX3UsQdcZEZ9tw\")\n",
        "# Open a ngrok tunnel to the HTTP server\n",
        "PORT = 5000\n",
        "public_url = ngrok.connect(PORT).public_url\n",
        "#visit the ngrok url to see demo\n",
        "print(\" * ngrok tunnel \\\"{}\\\" -> \\\"http://localhost:{}\\\"\".format(public_url, PORT))"
      ]
    },
    {
      "cell_type": "code",
      "source": [
        "import floor\n",
        "bp = floor.bp_100"
      ],
      "metadata": {
        "id": "fYFTCZcmySAu"
      },
      "execution_count": null,
      "outputs": []
    },
    {
      "cell_type": "code",
      "execution_count": null,
      "metadata": {
        "id": "KAah7LjN0Lvh"
      },
      "outputs": [],
      "source": [
        "import os\n",
        "import functools\n",
        "import wave\n",
        "from flask import Flask, views, request, flash, redirect, Response, render_template, Blueprint, current_app, session, url_for\n",
        "\n",
        "app = Flask(__name__)\n",
        "app.secret_key = \"thisisit\"\n",
        "\n",
        "users = {'Jimmy':'lovecoco','Peter':'lovecocotoo'}\n",
        "\n",
        "class Main(views.MethodView):\n",
        "    def get(self):\n",
        "        return render_template('index.html')\n",
        "    \n",
        "    def post(self):\n",
        "        if 'logout' in request.form:\n",
        "            session.pop('username', None)\n",
        "            return redirect(url_for('index'))\n",
        "        required = ['username', 'passwd']\n",
        "        for r in required:\n",
        "            if r not in request.form:\n",
        "                flash(\"Error: {0} is required.\".format(r))\n",
        "                return redirect(url_for('index'))\n",
        "        username = request.form['username']\n",
        "        passwd = request.form['passwd']\n",
        "        if username in users and users[username] == passwd:\n",
        "            session['username'] = username\n",
        "        else:\n",
        "            flash(\"Username doesn't exist or incorrect password\")\n",
        "        return redirect(url_for('index'))\n",
        "\n",
        "bp_nemo_1 = Blueprint('nemo_1', __name__, static_folder='static',\n",
        "               template_folder='templates')\n",
        "bp_nemo_2 = Blueprint('nemo_2', __name__, static_folder='static',\n",
        "               template_folder='templates')\n",
        "\n",
        "\n",
        "\n",
        "\n",
        "\n",
        "@bp_nemo_1.route('/')\n",
        "def index():\n",
        "    return render_template('nemo_1/index.html', \n",
        "                           ans_path = \"static/audio/prompt_answer.wav\", \n",
        "                           username =session[\"username\"],\n",
        "                           keys=nemo_1_keys) \n",
        "\n",
        "@bp_nemo_2.route('/')\n",
        "def index():\n",
        "    return render_template('nemo_2/index.html', \n",
        "                           ans_path = \"static/audio/prompt-dory-anw.wav\", \n",
        "                           username =session[\"username\"], \n",
        "                           keys=nemo_2_keys)\n",
        "\n",
        "\n",
        "\n",
        "\n",
        "\n",
        "app.add_url_rule('/',\n",
        "                 view_func=Main.as_view('index'),\n",
        "                 methods=[\"GET\", \"POST\"])\n",
        "\n",
        "@app.route('/create-graph.js')\n",
        "def script():\n",
        "    data_file = \"test.csv\"\n",
        "    return render_template('create-graph.js', file_name=data_file)\n",
        "\n",
        "app.register_blueprint(bp_nemo_1, url_prefix='/nemo_1')\n",
        "app.register_blueprint(bp_nemo_2, url_prefix='/nemo_2')\n",
        "app.register_blueprint(bp, url_prefix='/100_floor')\n",
        "app.run()"
      ]
    }
  ],
  "metadata": {
    "colab": {
      "collapsed_sections": [],
      "name": "Copy of flask-streaming-demo",
      "provenance": []
    },
    "kernelspec": {
      "display_name": "Python 3",
      "name": "python3"
    },
    "language_info": {
      "name": "python"
    }
  },
  "nbformat": 4,
  "nbformat_minor": 0
}